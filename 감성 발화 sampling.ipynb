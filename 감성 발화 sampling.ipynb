{
 "cells": [
  {
   "cell_type": "markdown",
   "id": "825891ca",
   "metadata": {},
   "source": [
    "### 샘플링\n",
    "- 7가지 감정 대략적으로 맞춤"
   ]
  },
  {
   "cell_type": "code",
   "execution_count": 1,
   "id": "b8183e0c",
   "metadata": {},
   "outputs": [],
   "source": [
    "from glob import glob\n",
    "import wave\n",
    "import random\n",
    "from tqdm import tqdm"
   ]
  },
  {
   "cell_type": "code",
   "execution_count": 3,
   "id": "cec66e6b",
   "metadata": {},
   "outputs": [],
   "source": [
    "base_path='data/감성 발화/'"
   ]
  },
  {
   "cell_type": "code",
   "execution_count": 5,
   "id": "165658fe",
   "metadata": {},
   "outputs": [],
   "source": [
    "label_path=base_path+'라벨링데이터/'\n",
    "audio_path=base_path+'원천데이터/'"
   ]
  },
  {
   "cell_type": "code",
   "execution_count": 6,
   "id": "7a4b478e",
   "metadata": {},
   "outputs": [
    {
     "data": {
      "text/plain": [
       "('data/감성 발화/라벨링데이터/', 'data/감성 발화/원천데이터/')"
      ]
     },
     "execution_count": 6,
     "metadata": {},
     "output_type": "execute_result"
    }
   ],
   "source": [
    "label_path, audio_path"
   ]
  },
  {
   "cell_type": "code",
   "execution_count": 23,
   "id": "93b5e4e3",
   "metadata": {},
   "outputs": [],
   "source": [
    "label_files=[]"
   ]
  },
  {
   "cell_type": "code",
   "execution_count": 52,
   "id": "04576e5f",
   "metadata": {},
   "outputs": [],
   "source": [
    "for path in glob(label_path+'*'):\n",
    "    tmp_files=[]\n",
    "    tmp_list=glob(path+'/*')\n",
    "    for tmp in tmp_list:\n",
    "        tmp_list_2=glob(tmp+'/*')\n",
    "        for tmp2 in tmp_list_2:\n",
    "            tmp_files.append(tmp2)\n",
    "    tmp_files=random.sample(tmp_files, 150)\n",
    "    label_files.extend(tmp_files)"
   ]
  },
  {
   "cell_type": "code",
   "execution_count": 53,
   "id": "586c9192",
   "metadata": {},
   "outputs": [],
   "source": [
    "c1=0\n",
    "c2=0\n",
    "c3=0\n",
    "c4=0\n",
    "c5=0\n",
    "c6=0\n",
    "c7=0"
   ]
  },
  {
   "cell_type": "code",
   "execution_count": 54,
   "id": "5cb8f484",
   "metadata": {},
   "outputs": [],
   "source": [
    "label_files=random.sample(label_files, 1000)"
   ]
  },
  {
   "cell_type": "code",
   "execution_count": 55,
   "id": "0f041a2d",
   "metadata": {},
   "outputs": [],
   "source": [
    "for r in label_files:\n",
    "    r=r.split('라벨링데이터')[1].split('.')[0].split('\\\\')[1]\n",
    "    if r==\"1\":\n",
    "        c1+=1\n",
    "    elif r==\"2\":\n",
    "        c2+=1\n",
    "    elif r==\"3\":\n",
    "        c3+=1\n",
    "    elif r==\"4\":\n",
    "        c4+=1\n",
    "    elif r==\"5\":\n",
    "        c5+=1\n",
    "    elif r==\"6\":\n",
    "        c6+=1\n",
    "    else:\n",
    "        c7+=1"
   ]
  },
  {
   "cell_type": "code",
   "execution_count": 56,
   "id": "aebc61a5",
   "metadata": {},
   "outputs": [
    {
     "data": {
      "text/plain": [
       "(152, 142, 136, 143, 144, 134, 149)"
      ]
     },
     "execution_count": 56,
     "metadata": {},
     "output_type": "execute_result"
    }
   ],
   "source": [
    "c1, c2, c3, c4, c5, c6, c7"
   ]
  },
  {
   "cell_type": "code",
   "execution_count": 57,
   "id": "6b601d64",
   "metadata": {},
   "outputs": [],
   "source": [
    "file_name=\"감성발화_random.txt\"\n",
    "file_name=base_path+file_name"
   ]
  },
  {
   "cell_type": "code",
   "execution_count": 59,
   "id": "85b1aba4",
   "metadata": {},
   "outputs": [
    {
     "name": "stdout",
     "output_type": "stream",
     "text": [
      "data/감성 발화/감성발화_random.txt 파일에 성공적으로 저장되었습니다.\n"
     ]
    }
   ],
   "source": [
    "try:\n",
    "    with open(file_name, 'w') as file:\n",
    "        for item in label_files:\n",
    "            file.write(f\"{item}\\n\")\n",
    "    print(f\"{file_name} 파일에 성공적으로 저장되었습니다.\")\n",
    "except Exception as e:\n",
    "    print(f\"파일 저장 중 오류가 발생했습니다: {e}\")"
   ]
  },
  {
   "cell_type": "markdown",
   "id": "de850c78",
   "metadata": {},
   "source": [
    "### 플레이타임 계산"
   ]
  },
  {
   "cell_type": "code",
   "execution_count": null,
   "id": "c39b7687",
   "metadata": {},
   "outputs": [],
   "source": [
    "file_name=\"감성발화_random.txt\"\n",
    "file_name=base_path+file_name"
   ]
  },
  {
   "cell_type": "code",
   "execution_count": 60,
   "id": "42611572",
   "metadata": {},
   "outputs": [
    {
     "name": "stdout",
     "output_type": "stream",
     "text": [
      "data/감성 발화/감성발화_random.txt 파일을 성공적으로 불러왔습니다.\n"
     ]
    }
   ],
   "source": [
    "try:\n",
    "    with open(file_name, 'r') as file:\n",
    "        # 파일의 각 줄을 읽어와 리스트에 저장\n",
    "         sample_list= [line.strip() for line in file.readlines()]\n",
    "    print(f\"{file_name} 파일을 성공적으로 불러왔습니다.\")\n",
    "except Exception as e:\n",
    "    print(f\"파일 불러오기 중 오류가 발생했습니다: {e}\")"
   ]
  },
  {
   "cell_type": "code",
   "execution_count": 63,
   "id": "1ae6099f",
   "metadata": {},
   "outputs": [],
   "source": [
    "# wav 파일 경로로 변경\n",
    "wav_list=[]\n",
    "for sample in sample_list:\n",
    "    wav_list.append(sample.replace('라벨링데이터', '원천데이터').replace('json', 'wav'))"
   ]
  },
  {
   "cell_type": "code",
   "execution_count": 65,
   "id": "6ec380db",
   "metadata": {},
   "outputs": [],
   "source": [
    "total_length=0"
   ]
  },
  {
   "cell_type": "code",
   "execution_count": 66,
   "id": "11708f80",
   "metadata": {},
   "outputs": [],
   "source": [
    "for r in wav_list:\n",
    "    audio = wave.open(r)\n",
    "    frames = audio.getnframes()\n",
    "    rate = audio.getframerate()\n",
    "    duration = frames / float(rate)\n",
    "    total_length+=duration"
   ]
  },
  {
   "cell_type": "code",
   "execution_count": 67,
   "id": "42f0dd84",
   "metadata": {},
   "outputs": [
    {
     "data": {
      "text/plain": [
       "3751.762020833334"
      ]
     },
     "execution_count": 67,
     "metadata": {},
     "output_type": "execute_result"
    }
   ],
   "source": [
    "total_length"
   ]
  },
  {
   "cell_type": "code",
   "execution_count": null,
   "id": "9fb6d346",
   "metadata": {},
   "outputs": [],
   "source": []
  }
 ],
 "metadata": {
  "kernelspec": {
   "display_name": "Python 3 (ipykernel)",
   "language": "python",
   "name": "python3"
  },
  "language_info": {
   "codemirror_mode": {
    "name": "ipython",
    "version": 3
   },
   "file_extension": ".py",
   "mimetype": "text/x-python",
   "name": "python",
   "nbconvert_exporter": "python",
   "pygments_lexer": "ipython3",
   "version": "3.11.5"
  }
 },
 "nbformat": 4,
 "nbformat_minor": 5
}
