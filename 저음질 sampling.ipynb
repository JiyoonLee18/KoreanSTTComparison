{
 "cells": [
  {
   "cell_type": "code",
   "execution_count": 4,
   "id": "ac84fcb9",
   "metadata": {},
   "outputs": [],
   "source": [
    "from glob import glob\n",
    "import wave\n",
    "import random"
   ]
  },
  {
   "cell_type": "code",
   "execution_count": 5,
   "id": "d313e174",
   "metadata": {},
   "outputs": [],
   "source": [
    "d_list=['D01', 'D02', 'D03', 'D04']"
   ]
  },
  {
   "cell_type": "code",
   "execution_count": 6,
   "id": "a1e4101b",
   "metadata": {},
   "outputs": [],
   "source": [
    "random_list=[]"
   ]
  },
  {
   "cell_type": "code",
   "execution_count": 7,
   "id": "e9bdb369",
   "metadata": {
    "scrolled": false
   },
   "outputs": [],
   "source": [
    "for d in d_list:\n",
    "    tmp_list=[]\n",
    "    folder_list=glob('data/저음질 전화 음성/'+d+'/*')\n",
    "    for folder in folder_list:\n",
    "        j_folder_list=glob(folder+'/*')\n",
    "        for j_folder in j_folder_list:\n",
    "            txt_list=glob(j_folder+'/*.txt')\n",
    "            tmp_list.extend(txt_list)\n",
    "    tmp_list=random.sample(tmp_list, 250)\n",
    "    random_list.extend(tmp_list)"
   ]
  },
  {
   "cell_type": "code",
   "execution_count": 8,
   "id": "3dbb1837",
   "metadata": {
    "scrolled": false
   },
   "outputs": [
    {
     "data": {
      "text/plain": [
       "1000"
      ]
     },
     "execution_count": 8,
     "metadata": {},
     "output_type": "execute_result"
    }
   ],
   "source": [
    "len(random_list)"
   ]
  },
  {
   "cell_type": "code",
   "execution_count": 9,
   "id": "78c5bbfe",
   "metadata": {},
   "outputs": [],
   "source": [
    "total_length=0"
   ]
  },
  {
   "cell_type": "code",
   "execution_count": 10,
   "id": "3a67c123",
   "metadata": {},
   "outputs": [],
   "source": [
    "d4=0\n",
    "d3=0\n",
    "d2=0\n",
    "d1=0"
   ]
  },
  {
   "cell_type": "code",
   "execution_count": 11,
   "id": "83ef4406",
   "metadata": {},
   "outputs": [],
   "source": [
    "for r in random_list:\n",
    "    r=r.split('.')[0]+'.wav'\n",
    "    audio = wave.open(r)\n",
    "    frames = audio.getnframes()\n",
    "    rate = audio.getframerate()\n",
    "    duration = frames / float(rate)\n",
    "    total_length+=duration"
   ]
  },
  {
   "cell_type": "code",
   "execution_count": 12,
   "id": "284ae985",
   "metadata": {
    "scrolled": true
   },
   "outputs": [
    {
     "data": {
      "text/plain": [
       "5625.01400000001"
      ]
     },
     "execution_count": 12,
     "metadata": {},
     "output_type": "execute_result"
    }
   ],
   "source": [
    "total_length"
   ]
  },
  {
   "cell_type": "code",
   "execution_count": 43,
   "id": "28e96199",
   "metadata": {},
   "outputs": [],
   "source": [
    "file_name=\"저음질_random.txt\""
   ]
  },
  {
   "cell_type": "code",
   "execution_count": 44,
   "id": "d7fab070",
   "metadata": {},
   "outputs": [],
   "source": [
    "file_name=\"저음질_random.txt\"\n",
    "file_name='data/저음질 전화 음성/'+file_name"
   ]
  },
  {
   "cell_type": "code",
   "execution_count": 47,
   "id": "a9200709",
   "metadata": {},
   "outputs": [
    {
     "name": "stdout",
     "output_type": "stream",
     "text": [
      "data/저음질 전화 음성/저음질_random.txt 파일에 성공적으로 저장되었습니다.\n"
     ]
    }
   ],
   "source": [
    "try:\n",
    "    with open(file_name, 'w') as file:\n",
    "        for item in random_list:\n",
    "            file.write(f\"{item}\\n\")\n",
    "    print(f\"{file_name} 파일에 성공적으로 저장되었습니다.\")\n",
    "except Exception as e:\n",
    "    print(f\"파일 저장 중 오류가 발생했습니다: {e}\")"
   ]
  }
 ],
 "metadata": {
  "kernelspec": {
   "display_name": "Python 3 (ipykernel)",
   "language": "python",
   "name": "python3"
  },
  "language_info": {
   "codemirror_mode": {
    "name": "ipython",
    "version": 3
   },
   "file_extension": ".py",
   "mimetype": "text/x-python",
   "name": "python",
   "nbconvert_exporter": "python",
   "pygments_lexer": "ipython3",
   "version": "3.11.5"
  }
 },
 "nbformat": 4,
 "nbformat_minor": 5
}
