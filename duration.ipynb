{
 "cells": [
  {
   "cell_type": "code",
   "execution_count": 2,
   "id": "4618991a",
   "metadata": {},
   "outputs": [],
   "source": [
    "import pandas as pd\n",
    "from glob import glob\n",
    "import wave\n",
    "from tqdm import tqdm"
   ]
  },
  {
   "cell_type": "code",
   "execution_count": 5,
   "id": "a04b8785",
   "metadata": {},
   "outputs": [],
   "source": [
    "cer=glob('predict/*')"
   ]
  },
  {
   "cell_type": "code",
   "execution_count": 4,
   "id": "84258908",
   "metadata": {},
   "outputs": [],
   "source": [
    "ec_file_list=list(pd.read_csv(cer[3])['file_name'])\n",
    "eo_file_list=list(pd.read_csv(cer[8])['file_name'])\n",
    "gs_file_list=list(pd.read_csv(cer[13])['file_name'])\n",
    "low_file_list=list(pd.read_csv(cer[18])['file_name'])"
   ]
  },
  {
   "cell_type": "code",
   "execution_count": 35,
   "id": "e0d09929",
   "metadata": {},
   "outputs": [
    {
     "name": "stderr",
     "output_type": "stream",
     "text": [
      "100%|██████████| 1000/1000 [00:03<00:00, 299.51it/s]\n"
     ]
    }
   ],
   "source": [
    "eo_duration=[]\n",
    "for file in tqdm(eo_file_list):\n",
    "    file_name=file.split('::')[0].split('KsponSpeech_eval/')[1].split('.pcm')[0]\n",
    "    file_name=\"data/한국어 음성/sample/\"+file_name+'.wav'\n",
    "    audio = wave.open(file_name)\n",
    "    frames = audio.getnframes()\n",
    "    rate = audio.getframerate()\n",
    "    duration = frames / float(rate)\n",
    "    eo_duration.append([file, duration])\n",
    "df=pd.DataFrame(eo_duration)\n",
    "df.columns=['file_name', 'duration']\n",
    "df.to_csv('cerwer/eo_duration.csv', index=False)\n"
   ]
  }
 ],
 "metadata": {
  "kernelspec": {
   "display_name": "Python 3 (ipykernel)",
   "language": "python",
   "name": "python3"
  },
  "language_info": {
   "codemirror_mode": {
    "name": "ipython",
    "version": 3
   },
   "file_extension": ".py",
   "mimetype": "text/x-python",
   "name": "python",
   "nbconvert_exporter": "python",
   "pygments_lexer": "ipython3",
   "version": "3.11.5"
  }
 },
 "nbformat": 4,
 "nbformat_minor": 5
}
