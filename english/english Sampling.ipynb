{
 "cells": [
  {
   "cell_type": "markdown",
   "id": "da87cb86",
   "metadata": {},
   "source": [
    "### 1. common voice"
   ]
  },
  {
   "cell_type": "code",
   "execution_count": 65,
   "id": "fc353fc0",
   "metadata": {},
   "outputs": [],
   "source": [
    "from glob import glob\n",
    "import soundfile as sf\n",
    "import wave\n",
    "import random\n",
    "from tqdm import tqdm"
   ]
  },
  {
   "cell_type": "code",
   "execution_count": 2,
   "id": "38233126",
   "metadata": {},
   "outputs": [],
   "source": [
    "import pandas as pd"
   ]
  },
  {
   "cell_type": "code",
   "execution_count": 57,
   "id": "18d8fce1",
   "metadata": {
    "scrolled": false
   },
   "outputs": [],
   "source": [
    "file_list=list(pd.read_csv('data/common voice/cv-valid-train.csv')['filename'])"
   ]
  },
  {
   "cell_type": "code",
   "execution_count": 58,
   "id": "ed2b845e",
   "metadata": {},
   "outputs": [],
   "source": [
    "file_list=random.sample(file_list, 1000)"
   ]
  },
  {
   "cell_type": "code",
   "execution_count": 67,
   "id": "497248eb",
   "metadata": {},
   "outputs": [],
   "source": [
    "df=pd.read_csv('data/common voice/cv-valid-train.csv')"
   ]
  },
  {
   "cell_type": "code",
   "execution_count": 70,
   "id": "2713b71f",
   "metadata": {},
   "outputs": [],
   "source": [
    "df=df[df['filename'].isin(file_list)]\n",
    "df.reset_index(inplace=True, drop=True)"
   ]
  },
  {
   "cell_type": "code",
   "execution_count": 71,
   "id": "fd8208ef",
   "metadata": {},
   "outputs": [],
   "source": [
    "df.to_csv('data/common voice/sample/sample.csv', index=False)"
   ]
  },
  {
   "cell_type": "code",
   "execution_count": 66,
   "id": "255ad2f6",
   "metadata": {},
   "outputs": [],
   "source": [
    "new_file_list=[]"
   ]
  },
  {
   "cell_type": "code",
   "execution_count": 60,
   "id": "c75d816c",
   "metadata": {},
   "outputs": [],
   "source": [
    "for file in file_list:\n",
    "    file=file.replace('.mp3', '.wav')\n",
    "    new_file_list.append(file)"
   ]
  },
  {
   "cell_type": "code",
   "execution_count": 61,
   "id": "cdeb1000",
   "metadata": {},
   "outputs": [],
   "source": [
    "sample_file='data/common voice/sample/common voice.txt'\n",
    "\n",
    "# w저장\n",
    "try:\n",
    "    with open(sample_file, 'w') as file:\n",
    "        for item in new_file_list:\n",
    "            file.write(f\"{item}\\n\")\n",
    "    print(f\"{sample_file} 파일에 성공적으로 저장되었습니다.\")\n",
    "except Exception as e:\n",
    "    print(f\"파일 저장 중 오류가 발생했습니다: {e}\")"
   ]
  },
  {
   "cell_type": "code",
   "execution_count": 29,
   "id": "d18955b6",
   "metadata": {},
   "outputs": [],
   "source": [
    "data_path='data/common voice/cv-valid-train/'"
   ]
  },
  {
   "cell_type": "code",
   "execution_count": 63,
   "id": "4652b341",
   "metadata": {},
   "outputs": [
    {
     "data": {
      "text/plain": [
       "'cv-valid-train/sample-025455.mp3'"
      ]
     },
     "execution_count": 63,
     "metadata": {},
     "output_type": "execute_result"
    }
   ],
   "source": [
    "file_list[0]"
   ]
  },
  {
   "cell_type": "code",
   "execution_count": 64,
   "id": "9ea77370",
   "metadata": {},
   "outputs": [
    {
     "name": "stderr",
     "output_type": "stream",
     "text": [
      "100%|██████████████████████████████████████████████████████████████████████████████| 1000/1000 [00:14<00:00, 68.80it/s]\n"
     ]
    }
   ],
   "source": [
    "for file in tqdm(file_list):\n",
    "    mp3_file=data_path+file\n",
    "    wav_file=str('data/common voice/sample/'+file).replace('mp3','wav')\n",
    "    data, samplerate = sf.read(mp3_file)\n",
    "    sf.write(wav_file, data, samplerate)"
   ]
  },
  {
   "cell_type": "markdown",
   "id": "f5f1d9b3",
   "metadata": {},
   "source": [
    "### 2. VCTK-Corpus"
   ]
  },
  {
   "cell_type": "code",
   "execution_count": 79,
   "id": "fa2459a3",
   "metadata": {},
   "outputs": [],
   "source": [
    "file_path='data/2_VCTK-Corpus/txt/*'"
   ]
  },
  {
   "cell_type": "code",
   "execution_count": 81,
   "id": "6ee4d320",
   "metadata": {},
   "outputs": [],
   "source": [
    "txt_files=[]\n",
    "for folder in list(glob(file_path)):\n",
    "    tmp=glob(folder+'/*')\n",
    "    txt_files.extend(tmp)"
   ]
  },
  {
   "cell_type": "code",
   "execution_count": 84,
   "id": "0c794aa0",
   "metadata": {},
   "outputs": [],
   "source": [
    "txt_files=random.sample(txt_files, 1000)"
   ]
  },
  {
   "cell_type": "code",
   "execution_count": 85,
   "id": "14c821a2",
   "metadata": {},
   "outputs": [
    {
     "data": {
      "text/plain": [
       "1000"
      ]
     },
     "execution_count": 85,
     "metadata": {},
     "output_type": "execute_result"
    }
   ],
   "source": [
    "len(txt_files)"
   ]
  },
  {
   "cell_type": "code",
   "execution_count": 86,
   "id": "d0de4890",
   "metadata": {},
   "outputs": [
    {
     "name": "stdout",
     "output_type": "stream",
     "text": [
      "data/2_VCTK-Corpus/sample.txt 파일에 성공적으로 저장되었습니다.\n"
     ]
    }
   ],
   "source": [
    "sample_file='data/2_VCTK-Corpus/sample.txt'\n",
    "\n",
    "# w저장\n",
    "try:\n",
    "    with open(sample_file, 'w') as file:\n",
    "        for item in txt_files:\n",
    "            file.write(f\"{item}\\n\")\n",
    "    print(f\"{sample_file} 파일에 성공적으로 저장되었습니다.\")\n",
    "except Exception as e:\n",
    "    print(f\"파일 저장 중 오류가 발생했습니다: {e}\")"
   ]
  },
  {
   "cell_type": "markdown",
   "id": "0d856ed4",
   "metadata": {},
   "source": [
    "### 3. CMU"
   ]
  },
  {
   "cell_type": "code",
   "execution_count": 88,
   "id": "2fc46802",
   "metadata": {},
   "outputs": [],
   "source": [
    "df=pd.read_csv('data/3_CMU/train.csv')"
   ]
  },
  {
   "cell_type": "code",
   "execution_count": 90,
   "id": "2df8c9ac",
   "metadata": {},
   "outputs": [],
   "source": [
    "df=df.sample(1000)\n",
    "df.reset_index(inplace=True, drop=True)"
   ]
  },
  {
   "cell_type": "code",
   "execution_count": 92,
   "id": "d78d634c",
   "metadata": {},
   "outputs": [],
   "source": [
    "df.to_csv('data/3_CMU/sample.csv', index=False)"
   ]
  },
  {
   "cell_type": "markdown",
   "id": "63ef572a",
   "metadata": {},
   "source": [
    "### 4. IEMOCAP"
   ]
  },
  {
   "cell_type": "code",
   "execution_count": 72,
   "id": "8ef65fee",
   "metadata": {},
   "outputs": [],
   "source": [
    "df=pd.read_csv('data/4_IEMOCAP\\\\iemocapTrans.csv')"
   ]
  },
  {
   "cell_type": "code",
   "execution_count": 73,
   "id": "6fa3461e",
   "metadata": {},
   "outputs": [],
   "source": [
    "df=df.sample(1000)"
   ]
  },
  {
   "cell_type": "code",
   "execution_count": 74,
   "id": "53b3a8a8",
   "metadata": {},
   "outputs": [],
   "source": [
    "df=df[['titre','to_translate','emotion']]"
   ]
  },
  {
   "cell_type": "code",
   "execution_count": 76,
   "id": "4777b3b1",
   "metadata": {},
   "outputs": [],
   "source": [
    "df.reset_index(inplace=True, drop=True)"
   ]
  },
  {
   "cell_type": "code",
   "execution_count": 77,
   "id": "f6e8a897",
   "metadata": {},
   "outputs": [],
   "source": [
    "df.to_csv('data/4_IEMOCAP/sample.csv', index=False)"
   ]
  },
  {
   "cell_type": "code",
   "execution_count": null,
   "id": "575d6d8c",
   "metadata": {},
   "outputs": [],
   "source": []
  },
  {
   "cell_type": "code",
   "execution_count": null,
   "id": "8f5f63d5",
   "metadata": {},
   "outputs": [],
   "source": []
  },
  {
   "cell_type": "code",
   "execution_count": null,
   "id": "8fd0f93c",
   "metadata": {},
   "outputs": [],
   "source": []
  }
 ],
 "metadata": {
  "kernelspec": {
   "display_name": "Python 3 (ipykernel)",
   "language": "python",
   "name": "python3"
  },
  "language_info": {
   "codemirror_mode": {
    "name": "ipython",
    "version": 3
   },
   "file_extension": ".py",
   "mimetype": "text/x-python",
   "name": "python",
   "nbconvert_exporter": "python",
   "pygments_lexer": "ipython3",
   "version": "3.11.5"
  }
 },
 "nbformat": 4,
 "nbformat_minor": 5
}
