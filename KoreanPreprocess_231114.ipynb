{
 "cells": [
  {
   "cell_type": "code",
   "execution_count": 1,
   "metadata": {},
   "outputs": [],
   "source": [
    "from KoreanPreprocess import make_modified, get_cerwer\n",
    "import pandas as pd\n",
    "import numpy as np\n",
    "from glob import glob\n",
    "from tqdm import tqdm"
   ]
  },
  {
   "cell_type": "code",
   "execution_count": 2,
   "metadata": {},
   "outputs": [],
   "source": [
    "file_list=glob('predict/*')"
   ]
  },
  {
   "cell_type": "code",
   "execution_count": null,
   "metadata": {},
   "outputs": [],
   "source": [
    "for file in tqdm(file_list):\n",
    "    file_name=file.split('\\\\')[-1]\n",
    "    save_name='cerwer/cw_'+file_name\n",
    "    df=pd.read_csv(file)\n",
    "\n",
    "    # 아예 인식 못한 데이터 분리\n",
    "    null_df=df[df['recognized_text'].isnull()]\n",
    "    df=df[~df['recognized_text'].isnull()]\n",
    "\n",
    "    modified_df=make_modified(df)\n",
    "    total=get_cerwer(df, modified_df)\n",
    "\n",
    "    null_df['cer']=np.nan\n",
    "    null_df['wer']=np.nan\n",
    "\n",
    "    total=pd.concat([total, null_df])\n",
    "    total.reset_index(inplace=True, drop=True)\n",
    "\n",
    "    total.to_csv(save_name, index=False)"
   ]
  },
  {
   "cell_type": "markdown",
   "metadata": {},
   "source": []
  }
 ],
 "metadata": {
  "kernelspec": {
   "display_name": "Python 3 (ipykernel)",
   "language": "python",
   "name": "python3"
  },
  "language_info": {
   "codemirror_mode": {
    "name": "ipython",
    "version": 3
   },
   "file_extension": ".py",
   "mimetype": "text/x-python",
   "name": "python",
   "nbconvert_exporter": "python",
   "pygments_lexer": "ipython3",
   "version": "3.11.5"
  }
 },
 "nbformat": 4,
 "nbformat_minor": 2
}
