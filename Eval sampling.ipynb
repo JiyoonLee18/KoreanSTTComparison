{
 "cells": [
  {
   "cell_type": "code",
   "execution_count": 54,
   "id": "d65803a1",
   "metadata": {},
   "outputs": [],
   "source": [
    "from glob import glob\n",
    "import wave\n",
    "import random\n",
    "from tqdm import tqdm"
   ]
  },
  {
   "cell_type": "markdown",
   "id": "d6430fe4",
   "metadata": {},
   "source": [
    "### 샘플링 및 샘플 리스트 저장"
   ]
  },
  {
   "cell_type": "code",
   "execution_count": 17,
   "id": "477d4eaf",
   "metadata": {},
   "outputs": [],
   "source": [
    "file_name=\"C:/Users/82105/Desktop/연구/STT/data/한국어 음성/eval_other.txt\""
   ]
  },
  {
   "cell_type": "code",
   "execution_count": 19,
   "id": "7900bf09",
   "metadata": {},
   "outputs": [
    {
     "name": "stdout",
     "output_type": "stream",
     "text": [
      "C:/Users/82105/Desktop/연구/STT/data/한국어 음성/eval_other.txt 파일을 성공적으로 불러왔습니다.\n"
     ]
    }
   ],
   "source": [
    "try:\n",
    "    with open(file_name, 'r') as file:\n",
    "        # 파일의 각 줄을 읽어와 리스트에 저장\n",
    "        eval_others = [line.strip() for line in file.readlines()]\n",
    "    print(f\"{file_name} 파일을 성공적으로 불러왔습니다.\")\n",
    "except Exception as e:\n",
    "    print(f\"파일 불러오기 중 오류가 발생했습니다: {e}\")"
   ]
  },
  {
   "cell_type": "code",
   "execution_count": 20,
   "id": "0dacd738",
   "metadata": {},
   "outputs": [
    {
     "data": {
      "text/plain": [
       "3000"
      ]
     },
     "execution_count": 20,
     "metadata": {},
     "output_type": "execute_result"
    }
   ],
   "source": [
    "len(eval_others)"
   ]
  },
  {
   "cell_type": "code",
   "execution_count": 21,
   "id": "9ff3a6c1",
   "metadata": {},
   "outputs": [],
   "source": [
    "file_name=\"C:/Users/82105/Desktop/연구/STT/data/한국어 음성/eval_clean.txt\""
   ]
  },
  {
   "cell_type": "code",
   "execution_count": 22,
   "id": "5a687226",
   "metadata": {},
   "outputs": [
    {
     "name": "stdout",
     "output_type": "stream",
     "text": [
      "C:/Users/82105/Desktop/연구/STT/data/한국어 음성/eval_clean.txt 파일을 성공적으로 불러왔습니다.\n"
     ]
    }
   ],
   "source": [
    "try:\n",
    "    with open(file_name, 'r') as file:\n",
    "        # 파일의 각 줄을 읽어와 리스트에 저장\n",
    "        eval_cleans = [line.strip() for line in file.readlines()]\n",
    "    print(f\"{file_name} 파일을 성공적으로 불러왔습니다.\")\n",
    "except Exception as e:\n",
    "    print(f\"파일 불러오기 중 오류가 발생했습니다: {e}\")"
   ]
  },
  {
   "cell_type": "code",
   "execution_count": 23,
   "id": "8dd1ea35",
   "metadata": {},
   "outputs": [
    {
     "data": {
      "text/plain": [
       "3000"
      ]
     },
     "execution_count": 23,
     "metadata": {},
     "output_type": "execute_result"
    }
   ],
   "source": [
    "len(eval_cleans)"
   ]
  },
  {
   "cell_type": "code",
   "execution_count": 24,
   "id": "d6ce9842",
   "metadata": {
    "scrolled": true
   },
   "outputs": [],
   "source": [
    "eval_cleans=random.sample(eval_cleans, 1000)\n",
    "eval_others=random.sample(eval_others, 1000)"
   ]
  },
  {
   "cell_type": "code",
   "execution_count": 25,
   "id": "2c157ce0",
   "metadata": {},
   "outputs": [
    {
     "data": {
      "text/plain": [
       "(1000, 1000)"
      ]
     },
     "execution_count": 25,
     "metadata": {},
     "output_type": "execute_result"
    }
   ],
   "source": [
    "len(eval_cleans), len(eval_others)"
   ]
  },
  {
   "cell_type": "code",
   "execution_count": 56,
   "id": "8b26649a",
   "metadata": {},
   "outputs": [],
   "source": [
    "new_clean_file='C:/Users/82105/Desktop/연구/STT/data/한국어 음성/sample/eval_clean.txt'"
   ]
  },
  {
   "cell_type": "code",
   "execution_count": 57,
   "id": "59bbdc4c",
   "metadata": {},
   "outputs": [
    {
     "name": "stdout",
     "output_type": "stream",
     "text": [
      "eval_clean/KsponSpeech_E00158 파일에 성공적으로 저장되었습니다.\n"
     ]
    }
   ],
   "source": [
    "# w저장\n",
    "try:\n",
    "    with open(new_clean_file, 'w') as file:\n",
    "        for item in eval_cleans:\n",
    "            file.write(f\"{item}\\n\")\n",
    "    print(f\"{file_name} 파일에 성공적으로 저장되었습니다.\")\n",
    "except Exception as e:\n",
    "    print(f\"파일 저장 중 오류가 발생했습니다: {e}\")"
   ]
  },
  {
   "cell_type": "code",
   "execution_count": 59,
   "id": "139b61ed",
   "metadata": {},
   "outputs": [],
   "source": [
    "new_other_file='C:/Users/82105/Desktop/연구/STT/data/한국어 음성/sample/eval_other.txt'"
   ]
  },
  {
   "cell_type": "code",
   "execution_count": 60,
   "id": "62b60d87",
   "metadata": {},
   "outputs": [
    {
     "name": "stdout",
     "output_type": "stream",
     "text": [
      "eval_clean/KsponSpeech_E00158 파일에 성공적으로 저장되었습니다.\n"
     ]
    }
   ],
   "source": [
    "# w저장\n",
    "try:\n",
    "    with open(new_other_file, 'w') as file:\n",
    "        for item in eval_others:\n",
    "            file.write(f\"{item}\\n\")\n",
    "    print(f\"{file_name} 파일에 성공적으로 저장되었습니다.\")\n",
    "except Exception as e:\n",
    "    print(f\"파일 저장 중 오류가 발생했습니다: {e}\")"
   ]
  },
  {
   "cell_type": "markdown",
   "id": "23255886",
   "metadata": {},
   "source": [
    "### 변환"
   ]
  },
  {
   "cell_type": "code",
   "execution_count": 27,
   "id": "996ef0c7",
   "metadata": {},
   "outputs": [],
   "source": [
    "def pcm_to_wav(input_file, output_file):\n",
    "    with open(input_file, 'rb') as pcm_file:\n",
    "        pcm_data = pcm_file.read()\n",
    "\n",
    "    wave_format = wave.open(output_file, 'w')\n",
    "    wave_format.setnchannels(1)  # 1 채널 (단일 채널)\n",
    "    wave_format.setsampwidth(2)  # 16비트\n",
    "    wave_format.setframerate(16000)  # 샘플링 레이트 (예: 16000 Hz)\n",
    "    wave_format.writeframes(pcm_data)\n",
    "    wave_format.close()"
   ]
  },
  {
   "cell_type": "code",
   "execution_count": null,
   "id": "e874f9eb",
   "metadata": {},
   "outputs": [],
   "source": [
    "base_path='C:/Users/82105/Desktop/연구/STT/data/한국어 음성/'\n",
    "sample_path=base_path+'sample/'"
   ]
  },
  {
   "cell_type": "code",
   "execution_count": 62,
   "id": "7db80e4d",
   "metadata": {},
   "outputs": [
    {
     "name": "stderr",
     "output_type": "stream",
     "text": [
      "100%|█████████████████████████████████████████████████████████████████████████████| 1000/1000 [00:03<00:00, 268.80it/s]\n"
     ]
    }
   ],
   "source": [
    "for ec in tqdm(eval_cleans):\n",
    "    file_name=ec.split('::')[0].split('KsponSpeech_eval/')[1].split('.pcm')[0]\n",
    "    input_pcm_file = base_path+file_name+'.pcm' # 입력 pcm 파일명\n",
    "    output_wav_file =sample_path+file_name+'.wav'  # 출력 wav 파일명\n",
    "    pcm_to_wav(input_pcm_file, output_wav_file)"
   ]
  },
  {
   "cell_type": "code",
   "execution_count": 63,
   "id": "05704a86",
   "metadata": {},
   "outputs": [
    {
     "name": "stderr",
     "output_type": "stream",
     "text": [
      "100%|█████████████████████████████████████████████████████████████████████████████| 1000/1000 [00:03<00:00, 259.92it/s]\n"
     ]
    }
   ],
   "source": [
    "for ec in tqdm(eval_others):\n",
    "    file_name=ec.split('::')[0].split('KsponSpeech_eval/')[1].split('.pcm')[0]\n",
    "    input_pcm_file = base_path+file_name+'.pcm' # 입력 pcm 파일명\n",
    "    output_wav_file =sample_path+file_name+'.wav'  # 출력 wav 파일명\n",
    "    pcm_to_wav(input_pcm_file, output_wav_file)"
   ]
  },
  {
   "cell_type": "markdown",
   "id": "4d90ad8b",
   "metadata": {},
   "source": [
    "### 플레이타임 계산"
   ]
  },
  {
   "cell_type": "code",
   "execution_count": 64,
   "id": "b3bf4057",
   "metadata": {},
   "outputs": [],
   "source": [
    "clean_folder=\"C:/Users/82105/Desktop/연구/STT/data/한국어 음성/sample/eval_clean\"\n",
    "other_folder=\"C:/Users/82105/Desktop/연구/STT/data/한국어 음성/sample/eval_other\""
   ]
  },
  {
   "cell_type": "code",
   "execution_count": 67,
   "id": "0c744475",
   "metadata": {},
   "outputs": [],
   "source": [
    "clean_list=glob(clean_folder+'/*')\n",
    "other_list=glob(other_folder+'/*')"
   ]
  },
  {
   "cell_type": "code",
   "execution_count": 68,
   "id": "de798106",
   "metadata": {},
   "outputs": [
    {
     "data": {
      "text/plain": [
       "(1000, 1000)"
      ]
     },
     "execution_count": 68,
     "metadata": {},
     "output_type": "execute_result"
    }
   ],
   "source": [
    "len(clean_list), len(other_list)"
   ]
  },
  {
   "cell_type": "code",
   "execution_count": 70,
   "id": "49b78e8f",
   "metadata": {},
   "outputs": [],
   "source": [
    "total_length=0"
   ]
  },
  {
   "cell_type": "code",
   "execution_count": 71,
   "id": "26b72c1a",
   "metadata": {},
   "outputs": [],
   "source": [
    "for r in clean_list:\n",
    "    audio = wave.open(r)\n",
    "    frames = audio.getnframes()\n",
    "    rate = audio.getframerate()\n",
    "    duration = frames / float(rate)\n",
    "    total_length+=duration"
   ]
  },
  {
   "cell_type": "code",
   "execution_count": 72,
   "id": "a5f42058",
   "metadata": {},
   "outputs": [
    {
     "data": {
      "text/plain": [
       "3242.6900000000014"
      ]
     },
     "execution_count": 72,
     "metadata": {},
     "output_type": "execute_result"
    }
   ],
   "source": [
    "total_length"
   ]
  },
  {
   "cell_type": "code",
   "execution_count": 73,
   "id": "1de364ea",
   "metadata": {},
   "outputs": [],
   "source": [
    "total_length=0"
   ]
  },
  {
   "cell_type": "code",
   "execution_count": 74,
   "id": "588e0353",
   "metadata": {},
   "outputs": [],
   "source": [
    "for r in other_list:\n",
    "    audio = wave.open(r)\n",
    "    frames = audio.getnframes()\n",
    "    rate = audio.getframerate()\n",
    "    duration = frames / float(rate)\n",
    "    total_length+=duration"
   ]
  },
  {
   "cell_type": "code",
   "execution_count": 75,
   "id": "e70dfc95",
   "metadata": {},
   "outputs": [
    {
     "data": {
      "text/plain": [
       "4532.8240000000005"
      ]
     },
     "execution_count": 75,
     "metadata": {},
     "output_type": "execute_result"
    }
   ],
   "source": [
    "total_length"
   ]
  },
  {
   "cell_type": "code",
   "execution_count": null,
   "id": "d12c5d04",
   "metadata": {},
   "outputs": [],
   "source": []
  }
 ],
 "metadata": {
  "kernelspec": {
   "display_name": "Python 3 (ipykernel)",
   "language": "python",
   "name": "python3"
  },
  "language_info": {
   "codemirror_mode": {
    "name": "ipython",
    "version": 3
   },
   "file_extension": ".py",
   "mimetype": "text/x-python",
   "name": "python",
   "nbconvert_exporter": "python",
   "pygments_lexer": "ipython3",
   "version": "3.11.5"
  }
 },
 "nbformat": 4,
 "nbformat_minor": 5
}
